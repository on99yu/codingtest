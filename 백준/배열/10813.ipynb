{
 "cells": [
  {
   "cell_type": "code",
   "execution_count": 4,
   "metadata": {},
   "outputs": [
    {
     "name": "stdout",
     "output_type": "stream",
     "text": [
      "[2, 1, 3, 4, 5]\n",
      "[2, 1, 4, 3, 5]\n",
      "[3, 1, 4, 2, 5]\n",
      "[3, 1, 4, 2, 5]\n",
      "[3, 1, 4, 2, 5]\n"
     ]
    }
   ],
   "source": [
    "N, M = map(int, input().split())\n",
    "res_L = [i for i in range(1, N+1)]\n",
    "\n",
    "for i in range(M):\n",
    "    a, b = map(int, input().split())\n",
    "    res_L[a-1], res_L[b-1]= res_L[b-1], res_L[a-1]\n",
    "for i in range(N):\n",
    "    print(res_L[i], end=\" \")"
   ]
  },
  {
   "cell_type": "code",
   "execution_count": null,
   "metadata": {},
   "outputs": [],
   "source": []
  }
 ],
 "metadata": {
  "kernelspec": {
   "display_name": "Python 3",
   "language": "python",
   "name": "python3"
  },
  "language_info": {
   "codemirror_mode": {
    "name": "ipython",
    "version": 3
   },
   "file_extension": ".py",
   "mimetype": "text/x-python",
   "name": "python",
   "nbconvert_exporter": "python",
   "pygments_lexer": "ipython3",
   "version": "3.10.6"
  },
  "orig_nbformat": 4
 },
 "nbformat": 4,
 "nbformat_minor": 2
}

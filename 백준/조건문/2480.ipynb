{
 "cells": [
  {
   "cell_type": "code",
   "execution_count": null,
   "metadata": {},
   "outputs": [],
   "source": [
    "a, b, c = map(int, input().split())\n",
    "price = 0 \n",
    "if a==b==c:\n",
    "    price = 10000+(a*1000)\n",
    "elif a==b or a==c:\n",
    "    price = 1000+(a*100)\n",
    "elif b == c:\n",
    "    price = 1000+(b*100)\n",
    "else:\n",
    "    price = max(a,b,c)*100\n",
    "print(price)"
   ]
  }
 ],
 "metadata": {
  "language_info": {
   "name": "python"
  },
  "orig_nbformat": 4
 },
 "nbformat": 4,
 "nbformat_minor": 2
}

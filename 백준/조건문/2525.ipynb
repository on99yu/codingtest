{
 "cells": [
  {
   "cell_type": "code",
   "execution_count": 7,
   "metadata": {},
   "outputs": [
    {
     "name": "stdout",
     "output_type": "stream",
     "text": [
      "0 0\n"
     ]
    }
   ],
   "source": [
    "hour , minutes = map(int, input().split())\n",
    "time = int(input())\n",
    "\n",
    "if minutes+time >= 60:\n",
    "    hour += (minutes+time)//60\n",
    "    minutes = (minutes+time)%60\n",
    "    if hour == 24:\n",
    "        hour = 0\n",
    "    elif hour > 24:\n",
    "        hour = hour//24\n",
    "    print(hour,minutes)\n",
    "else:\n",
    "    minutes= minutes+time\n",
    "    print(hour, minutes)"
   ]
  },
  {
   "cell_type": "code",
   "execution_count": null,
   "metadata": {},
   "outputs": [],
   "source": []
  }
 ],
 "metadata": {
  "kernelspec": {
   "display_name": "Python 3",
   "language": "python",
   "name": "python3"
  },
  "language_info": {
   "codemirror_mode": {
    "name": "ipython",
    "version": 3
   },
   "file_extension": ".py",
   "mimetype": "text/x-python",
   "name": "python",
   "nbconvert_exporter": "python",
   "pygments_lexer": "ipython3",
   "version": "3.10.6"
  },
  "orig_nbformat": 4
 },
 "nbformat": 4,
 "nbformat_minor": 2
}
